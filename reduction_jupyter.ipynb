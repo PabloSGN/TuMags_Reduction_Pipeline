{
 "cells": [
  {
   "cell_type": "code",
   "execution_count": 1,
   "metadata": {},
   "outputs": [],
   "source": [
    "# ------------------------------ IMPORTS ----------------------------------------- #\n",
    "\n",
    "# Built-in \n",
    "import os\n",
    "import glob\n",
    "import numpy as np\n",
    "import matplotlib.pyplot as plt\n",
    "\n",
    "# Own Libs\n",
    "from utils import read_Tumag\n",
    "from field_stop_finder import find_fieldstop\n",
    "from master_dark import compute_master_darks\n",
    "from master_flatfield import compute_master_flat_field"
   ]
  },
  {
   "cell_type": "code",
   "execution_count": 2,
   "metadata": {},
   "outputs": [],
   "source": [
    "# Testeo\n",
    "daks_c1 = sorted(glob.glob(f\"/home/pablo/Desktop/TuMAGDATA/Darks/*_0_*\")) \n",
    "daks_c2 = sorted(glob.glob(f\"/home/pablo/Desktop/TuMAGDATA/Darks/*_1_*\")) \n",
    "\n",
    "image_path_c1 = \"/home/pablo/Desktop/SuObsTEsts/DATA/27/2024_05_01_10_10_36_149_0_690.img\"\n",
    "image_path_c2 = \"/home/pablo/Desktop/SuObsTEsts/DATA/27/2024_05_01_10_10_36_149_1_690.img\"\n",
    "\n",
    "flats_c1 = sorted(glob.glob(f\"/home/pablo/Desktop/SuObsTEsts/DATA/27/*_0_*\")) \n",
    "flats_c2 = sorted(glob.glob(f\"/home/pablo/Desktop/SuObsTEsts/DATA/27/*_1_*\")) "
   ]
  },
  {
   "cell_type": "code",
   "execution_count": 3,
   "metadata": {},
   "outputs": [
    {
     "name": "stdout",
     "output_type": "stream",
     "text": [
      "Automatic field stop selected...\n",
      "Cam 1 Field stop: [[196, 1862], [151, 1816]]\n",
      "Cam 2 Field stop: [[197, 1862], [196, 1860]]\n",
      "Field stop computation finished in 0.004s.\n",
      "Computing darks ...\n",
      "N darks for cam1 : 6\n",
      "N darks for cam2 : 6\n",
      "Dark current computed in 0.707 s.\n",
      "Computing flats ...\n",
      "N flats for cam1 : 32\n",
      "N flats for cam2 : 32\n",
      "Flat-fields computed in 2.721 s.\n"
     ]
    }
   ],
   "source": [
    "c1, _ = read_Tumag(image_path_c1)\n",
    "c2, _ = read_Tumag(image_path_c2)\n",
    "\n",
    "fs_c1, fs_c2 = find_fieldstop(mode = \"auto\", cam1 = c1, cam2 = c2, plot_flag = False, verbose = True)\n",
    "\n",
    "dc = compute_master_darks(daks_c1, daks_c2, fs_c1, fs_c2, verbose = True)\n",
    "\n",
    "ff = compute_master_flat_field(flats_c1, flats_c2, dc, fs_c1, fs_c2, verbose = True)"
   ]
  },
  {
   "cell_type": "code",
   "execution_count": 8,
   "metadata": {},
   "outputs": [
    {
     "ename": "ValueError",
     "evalue": "cannot reshape array of size 130 into shape (2,2,4,8)",
     "output_type": "error",
     "traceback": [
      "\u001b[0;31m---------------------------------------------------------------------------\u001b[0m",
      "\u001b[0;31mValueError\u001b[0m                                Traceback (most recent call last)",
      "\u001b[0;32m/tmp/ipykernel_73994/1027007250.py\u001b[0m in \u001b[0;36m<module>\u001b[0;34m\u001b[0m\n\u001b[1;32m      8\u001b[0m \u001b[0mall_images\u001b[0m \u001b[0;34m=\u001b[0m \u001b[0msorted\u001b[0m\u001b[0;34m(\u001b[0m\u001b[0mglob\u001b[0m\u001b[0;34m.\u001b[0m\u001b[0mglob\u001b[0m\u001b[0;34m(\u001b[0m\u001b[0;34mf\"{Obs_folder}*\"\u001b[0m\u001b[0;34m)\u001b[0m\u001b[0;34m)\u001b[0m\u001b[0;34m\u001b[0m\u001b[0;34m\u001b[0m\u001b[0m\n\u001b[1;32m      9\u001b[0m \u001b[0;34m\u001b[0m\u001b[0m\n\u001b[0;32m---> 10\u001b[0;31m \u001b[0mreshaped_images\u001b[0m \u001b[0;34m=\u001b[0m \u001b[0mnp\u001b[0m\u001b[0;34m.\u001b[0m\u001b[0marray\u001b[0m\u001b[0;34m(\u001b[0m\u001b[0mall_images\u001b[0m\u001b[0;34m)\u001b[0m\u001b[0;34m.\u001b[0m\u001b[0mreshape\u001b[0m\u001b[0;34m(\u001b[0m\u001b[0mnobs\u001b[0m\u001b[0;34m,\u001b[0m \u001b[0;36m2\u001b[0m\u001b[0;34m,\u001b[0m \u001b[0mnmods\u001b[0m\u001b[0;34m,\u001b[0m \u001b[0mnlambda\u001b[0m\u001b[0;34m)\u001b[0m\u001b[0;34m\u001b[0m\u001b[0;34m\u001b[0m\u001b[0m\n\u001b[0m\u001b[1;32m     11\u001b[0m \u001b[0;34m\u001b[0m\u001b[0m\n",
      "\u001b[0;31mValueError\u001b[0m: cannot reshape array of size 130 into shape (2,2,4,8)"
     ]
    }
   ],
   "source": [
    "Obs_folder = \"/home/pablo/Desktop/TuMAGDATA/FS_modes_2_02/\"\n",
    "\n",
    "nobs = 2\n",
    "nmods = 4\n",
    "nlambda = 8\n",
    "\n",
    "\n",
    "all_images = sorted(glob.glob(f\"{Obs_folder}*\"))\n",
    "\n",
    "#reshaped_images = np.array(all_images).reshape(nobs, 2, nmods, nlambda)\n",
    "\n"
   ]
  },
  {
   "cell_type": "code",
   "execution_count": 18,
   "metadata": {},
   "outputs": [],
   "source": [
    "Omodes = []\n",
    "\n",
    "counter = {}\n",
    "\n",
    "mode_222_ims = []\n",
    "\n",
    "for im in all_images:\n",
    "    I, H = read_Tumag(im)\n",
    "   \n",
    "    oc = H[\"Observation_Counter\"]\n",
    "\n",
    "    if oc not in counter:\n",
    "        counter[oc] = 0\n",
    "\n",
    "    counter[oc] += 1\n"
   ]
  },
  {
   "cell_type": "code",
   "execution_count": 19,
   "metadata": {},
   "outputs": [
    {
     "data": {
      "text/plain": [
       "{221: 56, 222: 64, 223: 10}"
      ]
     },
     "execution_count": 19,
     "metadata": {},
     "output_type": "execute_result"
    }
   ],
   "source": [
    "counter"
   ]
  },
  {
   "cell_type": "code",
   "execution_count": 16,
   "metadata": {},
   "outputs": [
    {
     "data": {
      "text/plain": [
       "133"
      ]
     },
     "execution_count": 16,
     "metadata": {},
     "output_type": "execute_result"
    }
   ],
   "source": [
    "57+65+11"
   ]
  },
  {
   "cell_type": "code",
   "execution_count": 17,
   "metadata": {},
   "outputs": [
    {
     "data": {
      "text/plain": [
       "130"
      ]
     },
     "execution_count": 17,
     "metadata": {},
     "output_type": "execute_result"
    }
   ],
   "source": [
    "len(all_images)"
   ]
  },
  {
   "cell_type": "code",
   "execution_count": null,
   "metadata": {},
   "outputs": [],
   "source": []
  }
 ],
 "metadata": {
  "kernelspec": {
   "display_name": "Python 3",
   "language": "python",
   "name": "python3"
  },
  "language_info": {
   "codemirror_mode": {
    "name": "ipython",
    "version": 3
   },
   "file_extension": ".py",
   "mimetype": "text/x-python",
   "name": "python",
   "nbconvert_exporter": "python",
   "pygments_lexer": "ipython3",
   "version": "3.10.7"
  }
 },
 "nbformat": 4,
 "nbformat_minor": 2
}
