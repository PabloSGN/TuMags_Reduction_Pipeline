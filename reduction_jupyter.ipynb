{
 "cells": [
  {
   "cell_type": "code",
   "execution_count": null,
   "metadata": {},
   "outputs": [],
   "source": [
    "# ------------------------------ IMPORTS ----------------------------------------- #\n",
    "\n",
    "# Built-in \n",
    "import os\n",
    "import glob\n",
    "import numpy as np\n",
    "import matplotlib.pyplot as plt\n",
    "\n",
    "# Own Libs\n",
    "from utils import read_Tumag\n",
    "from field_stop_finder import find_fieldstop, fieldstopping_and_shifting\n",
    "from master_dark import compute_master_darks\n",
    "from master_flatfield import compute_master_flat_field\n",
    "import image_handler as ih\n",
    "from demodulation import demodulate"
   ]
  },
  {
   "cell_type": "code",
   "execution_count": null,
   "metadata": {},
   "outputs": [],
   "source": [
    "# Testeo\n",
    "darks_c1 = sorted(glob.glob(f\"/home/pablo/Desktop/TuMAGDATA/Darks/*_0_*\")) \n",
    "darks_c2 = sorted(glob.glob(f\"/home/pablo/Desktop/TuMAGDATA/Darks/*_1_*\")) \n",
    "\n",
    "ground_flat_path_c1 = \"/home/pablo/Desktop/SuObsTEsts/DATA/27/2024_05_01_10_10_36_149_0_690.img\"\n",
    "ground_flat_path_c2 = \"/home/pablo/Desktop/SuObsTEsts/DATA/27/2024_05_01_10_10_36_149_1_690.img\"\n",
    "\n",
    "flats_c1 = sorted(glob.glob(f\"/home/pablo/Desktop/SuObsTEsts/DATA/29/*_0_*\")) \n",
    "flats_c2 = sorted(glob.glob(f\"/home/pablo/Desktop/SuObsTEsts/DATA/29/*_1_*\")) "
   ]
  },
  {
   "cell_type": "code",
   "execution_count": null,
   "metadata": {},
   "outputs": [],
   "source": [
    "Obs_folder = \"/home/pablo/Desktop/TuMAGDATA/FS_modes_2_02/\"\n",
    "\n",
    "nobs = 2\n",
    "nmods = 4\n",
    "nlambda = 8\n",
    "\n",
    "all_images = sorted(glob.glob(f\"{Obs_folder}*\"))\n",
    "mode_222_ims = []\n",
    "for im in all_images:\n",
    "    I, H = read_Tumag(im)\n",
    "    oc = H[\"Observation_Counter\"]\n",
    "    if oc == 222:\n",
    "        mode_222_ims.append(im)\n",
    "\n",
    "mode_222_ims = np.array(mode_222_ims)\n",
    "reshaped_paths = np.array(mode_222_ims).reshape(nlambda, nmods, 2 )\n",
    "ob = ih.nominal_observation(\"2.02\", mode_222_ims)\n",
    "data = ob.get_data()"
   ]
  },
  {
   "cell_type": "code",
   "execution_count": null,
   "metadata": {},
   "outputs": [],
   "source": [
    "fs_obs_c1, fs_obs_c2 = find_fieldstop(mode = \"auto\", cam1 = data[0, -1, 0], cam2 = data[0, -1, 1], plot_flag = False, verbose = True)\n",
    "\n",
    "ground_flat_cam1, _ = read_Tumag(ground_flat_path_c1)\n",
    "ground_flat_cam2, _ = read_Tumag(ground_flat_path_c2)\n",
    "fs_ground_c1, fs_ground_c2 = find_fieldstop(mode = \"auto\", cam1 = ground_flat_cam1, cam2 = ground_flat_cam2, plot_flag = False, verbose = True)\n",
    "\n",
    "flats_c2 = sorted(glob.glob(f\"/home/pablo/Desktop/SuObsTEsts/DATA/27/*_1_*\")) \n",
    "flats_c1 = sorted(glob.glob(f\"/home/pablo/Desktop/SuObsTEsts/DATA/27/*_0_*\")) \n",
    "\n",
    "dc_obs = compute_master_darks(darks_c1, darks_c2, fs_obs_c1, fs_obs_c2, verbose = True)\n",
    "ff = compute_master_flat_field(flats_c1, flats_c2, np.zeros((2, 2016, 2016)), fs_ground_c1, fs_ground_c2, verbose = True)\n",
    "\n",
    "#fs_ground_c1[0][1] -= 1\n",
    "\n",
    "\n",
    "#fs_obs_c2 = np.array(fs_obs_c2)\n",
    "#fs_obs_c2[1] += 20"
   ]
  },
  {
   "cell_type": "code",
   "execution_count": null,
   "metadata": {},
   "outputs": [],
   "source": [
    "\"\"\"corrected = np.zeros((2, nmods, nlambda, 1666, 1664))\n",
    "\n",
    "for mod in range(nmods):\n",
    "    for lamb in range(nlambda):\n",
    "        corrected[0, mod, lamb] = (data[0, lamb, mod, fs_obs_c1[0][0]:fs_obs_c1[0][1], fs_obs_c1[1][0]:fs_obs_c1[1][1]] - dc_obs[0, fs_obs_c1[0][0]:fs_obs_c1[0][1], fs_obs_c1[1][0]:fs_obs_c1[1][1]]) / ff[0,fs_ground_c1[0][0]:fs_ground_c1[0][1], fs_ground_c1[1][0]:fs_ground_c1[1][1]]\n",
    "        corrected[1, mod, lamb] = (data[1, lamb, mod, fs_obs_c2[0][0]:fs_obs_c2[0][1], fs_obs_c2[1][0]:fs_obs_c2[1][1]] - dc_obs[1, fs_obs_c2[0][0]:fs_obs_c2[0][1], fs_obs_c2[1][0]:fs_obs_c2[1][1]]) / ff[1,fs_ground_c2[0][0]:fs_ground_c2[0][1], fs_ground_c2[1][0]:fs_ground_c2[1][1]]\n",
    "fig, axs = plt.subplots(2, 3, figsize = (10, 5))\n",
    "\n",
    "axs[0, 0].imshow(dc_obs[0, fs_obs_c1[0][0]:fs_obs_c1[0][1], fs_obs_c1[1][0]:fs_obs_c1[1][1]], vmin = 2000, cmap = \"gray\")\n",
    "axs[1, 0].imshow(dc_obs[1, fs_obs_c2[0][0]:fs_obs_c2[0][1], fs_obs_c2[1][0]:fs_obs_c2[1][1]], vmin = 2000, cmap = \"gray\")\n",
    "\n",
    "axs[0, 1].imshow(ff[0,fs_ground_c1[0][0]:fs_ground_c1[0][1], fs_ground_c1[1][0]:fs_ground_c1[1][1]], cmap = 'inferno')\n",
    "axs[1, 1].imshow(ff[1,fs_ground_c2[0][0]:fs_ground_c2[0][1], fs_ground_c2[1][0]:fs_ground_c2[1][1]], cmap = 'inferno')\n",
    "\n",
    "axs[0, 2].imshow(corrected[0, 0, -1], cmap = \"gray\")\n",
    "axs[1, 2].imshow(corrected[0, 0, -1], cmap = \"gray\")\n",
    "\n",
    "plt.tight_layout()\"\"\"\n",
    "\n",
    "corrected = np.zeros((2, nmods, nlambda, 2016,2016))\n",
    "for mod in range(nmods):\n",
    "    for lamb in range(nlambda):\n",
    "\n",
    "        obs_c1, obs_c2 = fieldstopping_and_shifting(data[0, lamb, mod], data[1, lamb, mod], fs_obs_c1, fs_obs_c2)\n",
    "        dc1, dc2 = fieldstopping_and_shifting(dc_obs[0], dc_obs[1], fs_obs_c1, fs_obs_c2)\n",
    "\n",
    "        corrected[1, mod, lamb] = (obs_c1 - dc1)\n",
    "        corrected[0, mod, lamb] = (obs_c2 - dc2)\n",
    "\n",
    "\n",
    "#fig, axs = plt.subplots(2, 3, figsize = (10, 5))\n",
    "\n",
    "del data, ff, dc_obs"
   ]
  },
  {
   "cell_type": "code",
   "execution_count": null,
   "metadata": {},
   "outputs": [],
   "source": [
    "#demod, dual = demodulate(corrected[:, :, 3], 1666, 1664, 4, 8, filt = \"525.02\", mode = 'single_wavelength') \n",
    "demod, dual = demodulate(corrected[:, :, 3],2016,2016, 4, 8, filt = \"525.02\", mode = 'single_wavelength') "
   ]
  },
  {
   "cell_type": "code",
   "execution_count": null,
   "metadata": {},
   "outputs": [],
   "source": [
    "fig, axs = plt.subplots(2, 2, figsize = (15, 15))\n",
    "\n",
    "axs[0, 0].imshow(demod[0, 0], cmap = \"gray\")\n",
    "axs[0, 1].imshow(demod[0, 1], cmap = \"gray\")\n",
    "axs[1, 0].imshow(demod[0, 2], cmap = \"gray\")\n",
    "axs[1, 1].imshow(demod[0, 3], cmap = \"gray\")\n",
    "plt.tight_layout()"
   ]
  },
  {
   "cell_type": "code",
   "execution_count": null,
   "metadata": {},
   "outputs": [],
   "source": [
    "fig, axs = plt.subplots(2, 2, figsize = (15, 15))\n",
    "\n",
    "axs[0, 0].imshow(dual[0], cmap = \"gray\")\n",
    "axs[0, 1].imshow(dual[1], cmap = \"gray\")\n",
    "axs[1, 0].imshow(dual[2], cmap = \"gray\")\n",
    "axs[1, 1].imshow(dual[3], cmap = \"gray\")\n",
    "\n",
    "\n",
    "plt.tight_layout()\n"
   ]
  },
  {
   "cell_type": "code",
   "execution_count": null,
   "metadata": {},
   "outputs": [],
   "source": [
    "np.shape(data[0, :, 0] )\n"
   ]
  },
  {
   "cell_type": "code",
   "execution_count": null,
   "metadata": {},
   "outputs": [],
   "source": []
  }
 ],
 "metadata": {
  "kernelspec": {
   "display_name": "Python 3",
   "language": "python",
   "name": "python3"
  },
  "language_info": {
   "codemirror_mode": {
    "name": "ipython",
    "version": 3
   },
   "file_extension": ".py",
   "mimetype": "text/x-python",
   "name": "python",
   "nbconvert_exporter": "python",
   "pygments_lexer": "ipython3",
   "version": "3.10.7"
  }
 },
 "nbformat": 4,
 "nbformat_minor": 2
}
