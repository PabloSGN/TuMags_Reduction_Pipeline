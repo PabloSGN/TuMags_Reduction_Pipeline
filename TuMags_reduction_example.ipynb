{
 "cells": [
  {
   "cell_type": "markdown",
   "metadata": {},
   "source": [
    "## TuMag's reduction example\n",
    "\n",
    "In this file we provide an example of the reduction for an aobserving mode of TuMag starting from a fits file.\n",
    "\n",
    "\n",
    "\n",
    "2 paths should be identified before starting the demodulation, the local directory where the TuMag's pipeline is located and the fits file to reduce. "
   ]
  },
  {
   "cell_type": "code",
   "execution_count": 7,
   "metadata": {},
   "outputs": [],
   "source": [
    "# SUBSTITUTE for local paths\n",
    "pipeline_path = \"/home/pablo/Desktop/TuMag/TuMags_Reduction_Pipeline\"\n",
    "fits_file = \"/media/HDD/TuMag_data/obs/01_QSUN_TM_00_Fe2.02_8_10072024T133713_LV_0.6_v1.0.fits\""
   ]
  },
  {
   "cell_type": "markdown",
   "metadata": {},
   "source": [
    "### Imports\n",
    "\n",
    "From external librarys:\n",
    " - fits from astropy.io\n",
    "\n",
    "From the directory containing the pipeline, the following routines must be imported: \n",
    " - align_obs_mode from alignment.py\n",
    " - demodulate from demodulation.py\n",
    " - fit_muller_matrix from xtalk_jaeggli.py\n",
    "\n",
    "To do this we use the sys library (pyhon built-in)"
   ]
  },
  {
   "cell_type": "code",
   "execution_count": null,
   "metadata": {},
   "outputs": [],
   "source": [
    "# IMPORTS\n",
    "\n",
    "# External libraries\n",
    "import sys      \n",
    "from astropy.io import fits\n",
    "\n",
    "# TuMag pipeline functions\n",
    "sys.path.append(pipeline_path) \n",
    "from alignment import align_obsmode \n",
    "from demodulation import demodulate\n",
    "from xtalk_jaeggli import fit_mueller_matrix"
   ]
  },
  {
   "cell_type": "markdown",
   "metadata": {},
   "source": [
    "### Loading the data\n",
    "We load the fits data file with the _getdata_ routine and the header with the _getheader_ from the module _astropy.io_. \n",
    "\n",
    "TuMag's fits files have the following dimensions -> (Ncams, Nlambda, Nmods, Nx, Ny), for data not yet demodulated (reduction levels lower than 1.0).\n",
    "\n",
    "Some fields of the header are useful for the reduction:\n",
    " - Number of wavelengths. \n",
    " - Number of modulations\n",
    " - Spectral line. \n"
   ]
  },
  {
   "cell_type": "code",
   "execution_count": null,
   "metadata": {},
   "outputs": [
    {
     "name": "stdout",
     "output_type": "stream",
     "text": [
      "Data shape: (2, 8, 4, 1644, 1644)\n",
      "Data properties:\n",
      "Observing mode: 2.02 - Spectral line 525.02\n",
      "Nº of Modulations : 4\n",
      "Nº of Wavelengths 8\n"
     ]
    }
   ],
   "source": [
    "# LOAD the data\n",
    "obs_data = fits.getdata(fits_file)\n",
    "obs_info = fits.getheader(fits_file)\n",
    "\n",
    "nmods = obs_info[\"NMODS\"]\n",
    "nlambda = obs_info[\"NLAMBDA\"]\n",
    "line = obs_info[\"FW2\"]\n",
    "obsmode = obs_info[\"OBS_MODE\"]\n",
    "\n",
    "\n",
    "print(f\"Data shape: {np.shape(obs_data)}\")\n",
    "print(f\"Data properties:\\nObserving mode: {obsmode} - Spectral line {line}\\nNº of Modulations : {nmods}\\nNº of Wavelengths {nlambda}\")"
   ]
  },
  {
   "cell_type": "markdown",
   "metadata": {},
   "source": [
    "### Filter and alignment \n",
    "\n",
    "Since the fits file we employed has a reduction level lower than 0.8 we need to align and filter the data before demodulating. \n",
    "\n",
    "We are going to use the  __align_obsmode__ routine from the module _alignment.py_. "
   ]
  },
  {
   "cell_type": "code",
   "execution_count": 10,
   "metadata": {},
   "outputs": [
    {
     "name": "stdout",
     "output_type": "stream",
     "text": [
      "Performing noise filtration ...\n",
      "Procesing wavelength: 1 / 8\n",
      "Time elapsed: 1.941 s.\n",
      "Procesing wavelength: 2 / 8\n",
      "Time elapsed: 1.906 s.\n",
      "Procesing wavelength: 3 / 8\n",
      "Time elapsed: 1.899 s.\n",
      "Procesing wavelength: 4 / 8\n",
      "Time elapsed: 1.886 s.\n",
      "Procesing wavelength: 5 / 8\n",
      "Time elapsed: 1.896 s.\n",
      "Procesing wavelength: 6 / 8\n",
      "Time elapsed: 1.9 s.\n",
      "Procesing wavelength: 7 / 8\n",
      "Time elapsed: 1.898 s.\n",
      "Procesing wavelength: 8 / 8\n",
      "Time elapsed: 1.889 s.\n",
      "Filtering process completed.\n",
      "\n",
      "Computing camera 2 rotation...\n",
      "Rotation finished.\n",
      "\n",
      "Aligning wavelengh: 1/8\n",
      "Modulations of cam 1 alignment...\n"
     ]
    },
    {
     "name": "stderr",
     "output_type": "stream",
     "text": [
      "/home/pablo/Desktop/TuMag/TuMags_Reduction_Pipeline/alignment.py:63: RuntimeWarning: invalid value encountered in sqrt\n",
      "  error=np.sqrt(1-np.abs(CCmax)**2/(rg00*rf00))\n"
     ]
    },
    {
     "name": "stdout",
     "output_type": "stream",
     "text": [
      "Aligning cam2...\n",
      "mod -> 0...\n",
      "mod -> 1...\n",
      "mod -> 2...\n",
      "mod -> 3...\n",
      "Aligning wavelengh: 2/8\n",
      "Modulations of cam 1 alignment...\n",
      "Aligning cam2...\n",
      "mod -> 0...\n",
      "mod -> 1...\n",
      "mod -> 2...\n",
      "mod -> 3...\n",
      "Aligning wavelengh: 3/8\n",
      "Modulations of cam 1 alignment...\n",
      "Aligning cam2...\n",
      "mod -> 0...\n",
      "mod -> 1...\n",
      "mod -> 2...\n",
      "mod -> 3...\n",
      "Aligning wavelengh: 4/8\n",
      "Modulations of cam 1 alignment...\n",
      "Aligning cam2...\n",
      "mod -> 0...\n",
      "mod -> 1...\n",
      "mod -> 2...\n",
      "mod -> 3...\n",
      "Aligning wavelengh: 5/8\n",
      "Modulations of cam 1 alignment...\n",
      "Aligning cam2...\n",
      "mod -> 0...\n",
      "mod -> 1...\n",
      "mod -> 2...\n",
      "mod -> 3...\n",
      "Aligning wavelengh: 6/8\n",
      "Modulations of cam 1 alignment...\n",
      "Aligning cam2...\n",
      "mod -> 0...\n",
      "mod -> 1...\n",
      "mod -> 2...\n",
      "mod -> 3...\n",
      "Aligning wavelengh: 7/8\n",
      "Modulations of cam 1 alignment...\n",
      "Aligning cam2...\n",
      "mod -> 0...\n",
      "mod -> 1...\n",
      "mod -> 2...\n",
      "mod -> 3...\n",
      "Aligning wavelengh: 8/8\n",
      "Modulations of cam 1 alignment...\n",
      "Aligning cam2...\n",
      "mod -> 0...\n",
      "mod -> 1...\n",
      "mod -> 2...\n",
      "mod -> 3...\n"
     ]
    }
   ],
   "source": [
    "# ALIGN the data. \n",
    "aligned = align_obsmode(obs_data)"
   ]
  },
  {
   "cell_type": "markdown",
   "metadata": {},
   "source": [
    "### Demodulating\n",
    "After alignment, we can demodulate the data to compute the Stokes components with the demodulation routine from the module _demodulation.py_.\n",
    "\n",
    "In addition to the aligned data, this function needs the spectral line to be able to select the demodulation matrix."
   ]
  },
  {
   "cell_type": "code",
   "execution_count": 11,
   "metadata": {},
   "outputs": [],
   "source": [
    "stokes = demodulate(aligned, filt = line)"
   ]
  },
  {
   "cell_type": "markdown",
   "metadata": {},
   "source": [
    "## Correcting the xtalk. \n",
    "\n",
    "After demodulation, a first cross-talk correction is required. This correction can be performed with the __fit_mueller_matrix__ routine from the __xtalk_jaeggli.py__ module"
   ]
  },
  {
   "cell_type": "code",
   "execution_count": 12,
   "metadata": {},
   "outputs": [],
   "source": [
    "xtalk_corr = fit_mueller_matrix(stokes)"
   ]
  }
 ],
 "metadata": {
  "kernelspec": {
   "display_name": "virtenv",
   "language": "python",
   "name": "python3"
  },
  "language_info": {
   "codemirror_mode": {
    "name": "ipython",
    "version": 3
   },
   "file_extension": ".py",
   "mimetype": "text/x-python",
   "name": "python",
   "nbconvert_exporter": "python",
   "pygments_lexer": "ipython3",
   "version": "3.12.3"
  }
 },
 "nbformat": 4,
 "nbformat_minor": 2
}
