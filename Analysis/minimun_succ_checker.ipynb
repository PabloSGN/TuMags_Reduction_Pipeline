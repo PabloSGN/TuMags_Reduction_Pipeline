{
 "cells": [
  {
   "cell_type": "code",
   "execution_count": 9,
   "metadata": {},
   "outputs": [],
   "source": [
    "import numpy as np\n",
    "import matplotlib.pyplot as plt\n",
    "\n",
    "from astropy.io import fits\n",
    "\n",
    "import pickle\n"
   ]
  },
  {
   "cell_type": "code",
   "execution_count": 12,
   "metadata": {},
   "outputs": [],
   "source": [
    "with open(\"minimum_success_images_headers.pickle\", 'rb') as file:\n",
    "    headers = pickle.load(file)\n",
    "\n",
    "data = fits.getdata(\"Minimum_success_2_02.fits\")"
   ]
  },
  {
   "cell_type": "code",
   "execution_count": 16,
   "metadata": {},
   "outputs": [
    {
     "name": "stdout",
     "output_type": "stream",
     "text": [
      "ObservationMode_index\n",
      "ObservationMode\n",
      "nAcc\n",
      "Roix\n",
      "Roiy\n",
      "Roix_offset\n",
      "Roiy_offset\n",
      "ObservationCounter\n",
      "FW1_ind\n",
      "FW2_ind\n",
      "FW1\n",
      "FW2\n",
      "hvps_counts\n",
      "hvps_sign\n",
      "lcvr1_counts\n",
      "lcvr2_counts\n",
      "hvps_read_counts\n",
      "lcvr1_read_counts\n",
      "lcvr2_read_counts\n",
      "hvps_comm_volts\n",
      "hvps_read_volts\n",
      "lcvr1_volts\n",
      "lcvr2_volts\n"
     ]
    }
   ],
   "source": [
    "for wave in headers[\"Images_headers\"]:\n",
    "    print(f\"\\nWavlength {wave}\")\n",
    "    print(\"-------------------\")\n",
    "    for mod in headers[\"Images_headers\"][wave]:\n",
    "\n",
    "        print(f\" Modul 0 : LCVR1 : {headers['Images_headers'][wave][mod]['lcvr1_volts']} - LCVR2 : {headers['Images_headers'][wave][mod]['lcvr2_volts']}\")"
   ]
  },
  {
   "cell_type": "code",
   "execution_count": null,
   "metadata": {},
   "outputs": [],
   "source": []
  }
 ],
 "metadata": {
  "kernelspec": {
   "display_name": "Python 3",
   "language": "python",
   "name": "python3"
  },
  "language_info": {
   "codemirror_mode": {
    "name": "ipython",
    "version": 3
   },
   "file_extension": ".py",
   "mimetype": "text/x-python",
   "name": "python",
   "nbconvert_exporter": "python",
   "pygments_lexer": "ipython3",
   "version": "3.10.12"
  }
 },
 "nbformat": 4,
 "nbformat_minor": 2
}
